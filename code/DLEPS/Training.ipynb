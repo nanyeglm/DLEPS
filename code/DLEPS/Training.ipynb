{
 "cells": [
  {
   "cell_type": "markdown",
   "metadata": {},
   "source": [
    "# 模型训练\n",
    "1. **导入DLEPS模块**：\n",
    "   - 从`dleps_predictor`模块中导入`DLEPS`类，这是用于训练和预测的核心模型类。\n",
    "2. **初始化DLEPS模型**：\n",
    "   - 创建一个`DLEPS`类的实例`dleps_p`，用于后续的模型训练和预测。\n",
    "3. **查看模型结构**：\n",
    "   - 使用`summary()`方法打印模型的层次结构，有助于理解模型的组成和参数。\n",
    "4. **加载数据**：\n",
    "   - 使用`h5py`库从HDF5文件中加载SMILES字符串的训练和测试数据，以及对应的RNA表达数据。\n",
    "5. **检查数据形状**：\n",
    "   - 打印加载的数据集的形状，以确认数据的维度和大小。\n",
    "6. **分割测试数据**：\n",
    "   - 将测试数据集分割为两部分，一部分用于测试，另一部分用于验证，以确保模型的泛化能力。\n",
    "7. **训练模型**：\n",
    "   - 使用`dleps_p.train`方法训练模型，输入包括训练数据、验证数据和训练参数（如epochs、batch_size、shuffle）。"
   ]
  },
  {
   "cell_type": "code",
   "execution_count": null,
   "metadata": {},
   "outputs": [],
   "source": [
    "import sys\n",
    "sys.path.append('/mnt/d/Research/PHD/DLEPS/code/DLEPS')\n",
    "from dleps_predictor import DLEPS"
   ]
  },
  {
   "cell_type": "code",
   "execution_count": null,
   "metadata": {},
   "outputs": [],
   "source": [
    "# 初始化DLEPS模型，不指定模型权重路径\n",
    "dleps_p = DLEPS()"
   ]
  },
  {
   "cell_type": "code",
   "execution_count": null,
   "metadata": {},
   "outputs": [],
   "source": [
    "# 查看模型结构\n",
    "dleps_p.model[0].summary()"
   ]
  },
  {
   "cell_type": "code",
   "execution_count": null,
   "metadata": {},
   "outputs": [],
   "source": [
    "# 加载SMILES训练和测试数据\n",
    "import h5py\n",
    "h5f = h5py.File('/mnt/d/Research/PHD/DLEPS/results/SMILE_train_demo.h5', 'r')\n",
    "smile_train = h5f['data'][:]\n",
    "h5f.close()\n",
    "\n",
    "h5f2 = h5py.File('/mnt/d/Research/PHD/DLEPS/results/SMILE_test_demo.h5', 'r')\n",
    "smile_test = h5f2['data'][:]\n",
    "h5f2.close()\n",
    "\n",
    "# 加载RNA训练和测试数据\n",
    "h5f3 = h5py.File('/mnt/d/Research/PHD/DLEPS/results/L1000_train.h5', 'r')\n",
    "rna_train = h5f3['data'][:]\n",
    "h5f3.close()\n",
    "\n",
    "h5f4 = h5py.File('/mnt/d/Research/PHD/DLEPS/results/L1000_test.h5', 'r')\n",
    "rna_test = h5f4['data'][:]\n",
    "h5f4.close()\n"
   ]
  },
  {
   "cell_type": "code",
   "execution_count": null,
   "metadata": {},
   "outputs": [],
   "source": [
    "# 检查数据形状\n",
    "print(\"smile_train.shape:\", smile_train.shape)\n",
    "print(\"smile_test.shape:\", smile_test.shape)\n",
    "print(\"rna_train.shape:\", rna_train.shape)\n",
    "print(\"rna_test.shape:\", rna_test.shape)"
   ]
  },
  {
   "cell_type": "code",
   "execution_count": null,
   "metadata": {},
   "outputs": [],
   "source": [
    "# 分割测试数据用于验证集\n",
    "sz = int(smile_test.shape[0] / 2)\n",
    "rna_val = rna_test[sz:]\n",
    "rna_test = rna_test[:sz]\n",
    "smile_val = smile_test[sz:]\n",
    "smile_test = smile_test[:sz]"
   ]
  },
  {
   "cell_type": "code",
   "execution_count": null,
   "metadata": {},
   "outputs": [],
   "source": [
    "# 训练模型\n",
    "his = dleps_p.train(smile_train, rna_train, (smile_val, rna_val), epochs=100, batch_size=64, shuffle=True)\n",
    "# 模型训练完成后，模型权重已保存在 'my_trained_model.h5'"
   ]
  },
  {
   "cell_type": "markdown",
   "metadata": {},
   "source": [
    "# 模型评估\n",
    "1. **预测和评估训练集**：\n",
    "   - 对训练集进行预测，并计算预测值和实际RNA表达之间的相关系数，以评估模型的性能。\n",
    "   - 绘制相关系数的直方图，并计算平均相关系数。\n",
    "   - 可视化部分训练集样本的预测结果和实际RNA表达。\n",
    "2. **分析和可视化测试集**：\n",
    "   - 对测试集进行预测，并重复训练集的分析和可视化步骤，以评估模型在未见数据上的表现。"
   ]
  },
  {
   "cell_type": "code",
   "execution_count": null,
   "metadata": {},
   "outputs": [],
   "source": [
    "# 预测训练集并计算相关性\n",
    "import matplotlib.pyplot as plt\n",
    "import numpy as np"
   ]
  },
  {
   "cell_type": "code",
   "execution_count": null,
   "metadata": {},
   "outputs": [],
   "source": [
    "# 计算训练集预测值\n",
    "y_pred = dleps_p.model[0].predict(smile_train)"
   ]
  },
  {
   "cell_type": "code",
   "execution_count": null,
   "metadata": {},
   "outputs": [],
   "source": [
    "# 计算相关系数\n",
    "corr = []\n",
    "print(\"smile_train.shape:\", smile_train.shape)\n",
    "print(\"y_pred.shape:\", y_pred.shape)\n",
    "for i in range(smile_train.shape[0]):\n",
    "    corr.append(np.corrcoef(rna_train[i], y_pred[i])[0, 1])"
   ]
  },
  {
   "cell_type": "code",
   "execution_count": null,
   "metadata": {},
   "outputs": [],
   "source": [
    "# 绘制相关系数的直方图\n",
    "plt.figure(figsize=(10, 6))\n",
    "plt.hist(corr, bins=50, color='skyblue', edgecolor='black')\n",
    "plt.title('Correlation between Predicted and Actual RNA Expressions (Training Set)')\n",
    "plt.xlabel('Correlation Coefficient')\n",
    "plt.ylabel('Frequency')\n",
    "plt.show()\n",
    "print(\"Mean correlation (Training set):\", np.mean(corr))"
   ]
  },
  {
   "cell_type": "code",
   "execution_count": null,
   "metadata": {},
   "outputs": [],
   "source": [
    "# 定义密度计算函数\n",
    "from scipy.stats import gaussian_kde"
   ]
  },
  {
   "cell_type": "code",
   "execution_count": null,
   "metadata": {},
   "outputs": [],
   "source": [
    "def density(x, y):\n",
    "    xy = np.vstack([x, y])\n",
    "    return gaussian_kde(xy)(xy)"
   ]
  },
  {
   "cell_type": "code",
   "execution_count": null,
   "metadata": {},
   "outputs": [],
   "source": [
    "# 可视化训练集样本\n",
    "n = 10  # 展示样本数量\n",
    "sam = 50\n",
    "plt.figure(figsize=(20, 6))\n",
    "# 使用默认样式\n",
    "for i in range(n):\n",
    "    ax = plt.subplot(3, n, i + 1)\n",
    "    plt.scatter(y_pred[sam + i], rna_train[sam + i],\n",
    "                c=density(y_pred[sam + i], rna_train[sam + i]),\n",
    "                s=8, cmap=\"coolwarm\")\n",
    "    plt.title(f'Sample {sam + i}')\n",
    "plt.tight_layout()\n",
    "plt.show()"
   ]
  },
  {
   "cell_type": "code",
   "execution_count": null,
   "metadata": {},
   "outputs": [],
   "source": [
    "# 分析测试集\n",
    "y_pred2 = dleps_p.model[0].predict(smile_test)"
   ]
  },
  {
   "cell_type": "code",
   "execution_count": null,
   "metadata": {},
   "outputs": [],
   "source": [
    "corr = []\n",
    "print(\"smile_test.shape:\", smile_test.shape)\n",
    "print(\"y_pred2.shape:\", y_pred2.shape)\n",
    "for i in range(smile_test.shape[0]):\n",
    "    corr.append(np.corrcoef(rna_test[i], y_pred2[i])[0, 1])\n"
   ]
  },
  {
   "cell_type": "code",
   "execution_count": null,
   "metadata": {},
   "outputs": [],
   "source": [
    "# 绘制测试集相关系数的直方图\n",
    "plt.figure(figsize=(10, 6))\n",
    "plt.hist(corr, bins=50, color='lightgreen', edgecolor='black')\n",
    "plt.title('Correlation between Predicted and Actual RNA Expressions (Test Set)')\n",
    "plt.xlabel('Correlation Coefficient')\n",
    "plt.ylabel('Frequency')\n",
    "plt.show()\n",
    "print(\"Mean correlation (Test set):\", np.mean(corr))\n"
   ]
  },
  {
   "cell_type": "code",
   "execution_count": null,
   "metadata": {},
   "outputs": [],
   "source": [
    "# 可视化测试集样本\n",
    "n = 10  # 展示样本数量\n",
    "sam = 50\n",
    "plt.figure(figsize=(20, 6))\n",
    "# 使用默认样式\n",
    "for i in range(n):\n",
    "    ax = plt.subplot(3, n, i + 1)\n",
    "    plt.scatter(y_pred2[sam + i], rna_test[sam + i],\n",
    "                c=density(y_pred2[sam + i], rna_test[sam + i]),\n",
    "                s=8, cmap=\"coolwarm\")\n",
    "    plt.title(f'Sample {sam + i}')\n",
    "plt.tight_layout()\n",
    "plt.show()\n"
   ]
  }
 ],
 "metadata": {
  "kernelspec": {
   "display_name": "dleps",
   "language": "python",
   "name": "python3"
  },
  "language_info": {
   "codemirror_mode": {
    "name": "ipython",
    "version": 3
   },
   "file_extension": ".py",
   "mimetype": "text/x-python",
   "name": "python",
   "nbconvert_exporter": "python",
   "pygments_lexer": "ipython3",
   "version": "3.10.15"
  }
 },
 "nbformat": 4,
 "nbformat_minor": 4
}
