{
 "cells": [
  {
   "cell_type": "markdown",
   "metadata": {},
   "source": [
    "# A Deep Learning based Efficacy Prediction System for Drug Discovery"
   ]
  },
  {
   "cell_type": "code",
   "execution_count": null,
   "metadata": {},
   "outputs": [],
   "source": [
    "# /mnt/d/Research/PHD/DLEPS/code/DLEPS/DLEPS_tutorial.py\n",
    "\n",
    "# 导入所需模块\n",
    "import os\n",
    "import pandas as pd\n",
    "import matplotlib.pyplot as plt\n",
    "import sys\n",
    "sys.path.append('/mnt/d/Research/PHD/DLEPS/code/DLEPS')\n",
    "from dleps_predictor import DLEPS"
   ]
  },
  {
   "cell_type": "markdown",
   "metadata": {},
   "source": [
    "Load the SMILES for natural products and FDA approved drugs"
   ]
  },
  {
   "cell_type": "code",
   "execution_count": null,
   "metadata": {},
   "outputs": [],
   "source": [
    "# 加载天然产物和 FDA 批准药物的 SMILES 数据\n",
    "smi = pd.read_csv('/mnt/d/Research/PHD/DLEPS/data/Brief_Targetmol_natural_product_2719')\n",
    "fda = pd.read_csv('/mnt/d/Research/PHD/DLEPS/data/Brief_FDA-Approved-Drug_961')"
   ]
  },
  {
   "cell_type": "code",
   "execution_count": null,
   "metadata": {},
   "outputs": [],
   "source": [
    "smi\n",
    "# 查看天然产物数据\n",
    "print(\"天然产物数据预览：\")\n",
    "print(smi.head())"
   ]
  },
  {
   "cell_type": "markdown",
   "metadata": {},
   "source": [
    "\n",
    "\n",
    "Load the DLEPS model. DLEPS requires up set of genes and down set of genes to calculate cs = a - b , or only one set for calculating a."
   ]
  },
  {
   "cell_type": "code",
   "execution_count": null,
   "metadata": {
    "scrolled": false
   },
   "outputs": [],
   "source": [
    "# 初始化 DLEPS 模型\n",
    "# 指定模型权重路径为训练后生成的模型权重文件\n",
    "predictor = DLEPS(\n",
    "    reverse=False, \n",
    "    up_name='/mnt/d/Research/PHD/DLEPS/data/BROWNING_up',\n",
    "    down_name='/mnt/d/Research/PHD/DLEPS/data/BROWNING_down',\n",
    "    save_exp=None,\n",
    "    model_weights_path='/mnt/d/Research/PHD/DLEPS/my_trained_model.h5'  # 指定训练后保存的模型权重文件路径\n",
    ")\n"
   ]
  },
  {
   "cell_type": "markdown",
   "metadata": {},
   "source": [
    "\n",
    "\n",
    "The model structure showed followed"
   ]
  },
  {
   "cell_type": "code",
   "execution_count": null,
   "metadata": {},
   "outputs": [],
   "source": [
    "# 查看模型结构\n",
    "predictor.model[0].summary()"
   ]
  },
  {
   "cell_type": "markdown",
   "metadata": {},
   "source": [
    "\n",
    "\n",
    "Execute model inference, input requires a SMILES array, output is a cs array with -2 for unsuccessed processing. \n",
    "predict function has the followed options:\n",
    "predict(self, setmean = False, save_onehot=None, load_onehot=None, reverse = True, base = -2, up_name='\\', down_name='', save_exp = None)\n",
    "\n",
    "setmean : False, z score (Change of Transcriptional Profiles, CTP) = expression level - mean, setmean refers to mean of expression files for user inputed chemicals \\\n",
    "save_onehot: None, save onehot array for the current chemical set for future use \\\n",
    "load_onehot: None, load onehot if onehot files have been saved \\\n",
    "reverse: True, do user want to reverse the input up / down gene set, only works for the paired input \\\n",
    "base: -2, default value for error parsed small molecules"
   ]
  },
  {
   "cell_type": "code",
   "execution_count": null,
   "metadata": {
    "scrolled": false
   },
   "outputs": [],
   "source": [
    "# 模型推理\n",
    "# 输入：SMILES 数组\n",
    "# 输出：cs 数组，其中 -2 表示处理失败的小分子\n",
    "scores = predictor.predict(fda['SMILES'].values)\n",
    "#scores = predictor.predict(celastrol)"
   ]
  },
  {
   "cell_type": "code",
   "execution_count": null,
   "metadata": {
    "scrolled": false
   },
   "outputs": [],
   "source": [
    "fda\n",
    "# 打印 FDA 批准药物数据\n",
    "print(\"FDA 批准药物数据预览：\")\n",
    "print(fda.head())"
   ]
  },
  {
   "cell_type": "markdown",
   "metadata": {},
   "source": [
    "\n",
    "\n",
    "Visualize the cs scores"
   ]
  },
  {
   "cell_type": "code",
   "execution_count": null,
   "metadata": {},
   "outputs": [],
   "source": [
    "# 可视化 cs 得分\n",
    "plt.figure(figsize=(10, 6))\n",
    "plt.hist(scores, bins=50, color='skyblue', edgecolor='black')\n",
    "plt.title(\"FDA Approved Drugs CS Scores\")\n",
    "plt.xlabel(\"CS Scores\")\n",
    "plt.ylabel(\"Frequency\")\n",
    "plt.show()"
   ]
  },
  {
   "cell_type": "code",
   "execution_count": null,
   "metadata": {},
   "outputs": [],
   "source": [
    "# 将预测得分添加到 FDA 数据中\n",
    "fda['score'] = scores"
   ]
  },
  {
   "cell_type": "code",
   "execution_count": null,
   "metadata": {
    "scrolled": false
   },
   "outputs": [],
   "source": [
    "# 查看更新后的 FDA 数据\n",
    "print(\"更新后的 FDA 批准药物数据预览：\")\n",
    "print(fda.head())\n",
    "fda"
   ]
  },
  {
   "cell_type": "code",
   "execution_count": null,
   "metadata": {},
   "outputs": [],
   "source": [
    "# 如果需要保存结果到文件，可以取消以下注释：\n",
    "# fda = fda.set_index('Unnamed: 0')\n",
    "# fda.to_csv('../../results/fda_HUA_merge.csv')\n",
    "# print(\"FDA 预测结果已保存到 '../../results/fda_HUA_merge.csv'\")\n"
   ]
  },
  {
   "cell_type": "code",
   "execution_count": null,
   "metadata": {
    "scrolled": true
   },
   "outputs": [],
   "source": [
    "# 对天然产物数据进行预测\n",
    "smi_scores = predictor.predict(smi['SMILES'].values)"
   ]
  },
  {
   "cell_type": "code",
   "execution_count": null,
   "metadata": {},
   "outputs": [],
   "source": [
    "# 可视化天然产物的 cs 得分\n",
    "plt.figure(figsize=(10, 6))\n",
    "plt.hist(smi_scores, bins=50, color='lightgreen', edgecolor='black')\n",
    "plt.title(\"Natural Products CS Scores\")\n",
    "plt.xlabel(\"CS Scores\")\n",
    "plt.ylabel(\"Frequency\")\n",
    "plt.show()"
   ]
  },
  {
   "cell_type": "code",
   "execution_count": null,
   "metadata": {},
   "outputs": [],
   "source": [
    "# 将预测得分添加到天然产物数据中\n",
    "smi['score'] = smi_scores"
   ]
  },
  {
   "cell_type": "code",
   "execution_count": null,
   "metadata": {
    "scrolled": false
   },
   "outputs": [],
   "source": [
    "# 设置天然产物数据的索引\n",
    "# 假设 'Unnamed: 0' 是需要设置为索引的列名，根据实际数据调整\n",
    "# 如果 'Unnamed: 0' 不存在，请更改为实际的列名或移除此行\n",
    "smi = smi.set_index('Unnamed: 0')"
   ]
  },
  {
   "cell_type": "code",
   "execution_count": null,
   "metadata": {},
   "outputs": [],
   "source": [
    "# 打印更新后的天然产物数据\n",
    "print(\"更新后的天然产物数据预览：\")\n",
    "print(smi.head())"
   ]
  },
  {
   "cell_type": "code",
   "execution_count": null,
   "metadata": {},
   "outputs": [],
   "source": [
    "# 如果需要保存结果到文件，可以取消以下注释：\n",
    "# smi.to_csv('../../results/natural_product_scores.csv')\n",
    "# print(\"天然产物预测结果已保存到 '../../results/natural_product_scores.csv'\")"
   ]
  }
 ],
 "metadata": {
  "kernelspec": {
   "display_name": "dleps",
   "language": "python",
   "name": "python3"
  },
  "language_info": {
   "codemirror_mode": {
    "name": "ipython",
    "version": 3
   },
   "file_extension": ".py",
   "mimetype": "text/x-python",
   "name": "python",
   "nbconvert_exporter": "python",
   "pygments_lexer": "ipython3",
   "version": "3.7.12"
  }
 },
 "nbformat": 4,
 "nbformat_minor": 2
}
