{
 "cells": [
  {
   "cell_type": "markdown",
   "metadata": {},
   "source": [
    "# 统计`GSE92742_Broad_LINCS_sig_info.txt`中的元数据信息\n",
    "| 列名              | 含义                                         | 示例                                      |\n",
    "|------------------|--------------------------------------------|-----------------------------------------|\n",
    "| sig_id           | 基因表达调控的唯一标识符，包含实验编号、细胞系、处理时间等信息 | AML001_CD34_24H:A05                       |\n",
    "| pert_id          | 抑制剂的唯一标识符，用于标识化合物或处理类型    | DMSO 表示溶剂对照；BRD-A03772856 是具体化合物的ID。 |\n",
    "| pert_iname       | 抑制剂的名称                                 | DMSO（对照）；trichostatin-a（具体药物）  |\n",
    "| pert_type        | 抑制剂的类型                                 | ctl_vehicle（溶剂对照），trt_cp（化合物处理）  |\n",
    "| cell_id          | 实验使用的细胞系                             | CD34: 表示实验细胞系为CD34。             |\n",
    "| pert_dose        | 抑制剂的剂量                                 | 0.1, 单位后续列 pert_dose_unit 指定。      |\n",
    "| pert_dose_unit   | 抑制剂剂量的单位                             | %, μM（微摩尔）                         |\n",
    "| pert_idose       | 抑制剂量的解释性表示                         | 0.1%, 10 µM                             |\n",
    "| pert_time        | 抑制剂处理的处理时间                         | 24h                                      |\n",
    "| pert_time_unit   | 抑制剂处理时间的单位                         | h（小时）                               |\n",
    "| pert_itime       | 抑制剂处理时间的解释性表示                   | 24 h                                    |\n",
    "| distil_id        | 表示单个实验的重复样本，多个实验可能合并     | AML001_CD34_24H_X1_F1B10:J04            |\n",
    "\n",
    "这行数据描述的是一个实验，实验编号为 AML001，使用 **CD34** 细胞系，处理时间为 **24小时**。实验中使用的扰动剂是 **trichostatin-a**，其 **pert_id** 为 BRD-A19037878，剂量为 1.11111 µM，处理持续时间为 **24小时**。该实验包含两个重复样本，分别位于 AML001_CD34_24H_X1_F1B10:F05 和 AML001_CD34_24H_X3_F1B10:F05。 \n",
    "\n",
    "sig_id列名格式：`<实验编号>_<细胞系>_<时间>:<化合物>:<剂量>`"
   ]
  },
  {
   "cell_type": "code",
   "execution_count": null,
   "metadata": {},
   "outputs": [],
   "source": [
    "\"GSE92742_Broad_LINCS_sig_info.txt\"\n",
    "import pandas as pd\n",
    "\n",
    "#加载sig_info文件\n",
    "sig_info_path =\"/mnt/d/Research/PHD/DLEPS/data/GSE92742/GSE92742_Broad_LINCS_sig_info.txt\"\n",
    "sig_info = pd.read_csv(sig_info_path, sep=\"\\t\", dtype=str)\n",
    "\n",
    "#查看文件基本信息\n",
    "unique_sig_ids = sig_info['sig_id'].nunique()\n",
    "unique_pert_ids = sig_info['pert_id'].nunique()\n",
    "unique_pert_iname = sig_info['pert_iname'].nunique()\n",
    "\n",
    "\n",
    "# 输出结果\n",
    "# print(sig_info)\n",
    "print(f\"不重复的实验记录数据(sig_id)数量: {unique_sig_ids}\")\n",
    "print(f\"不重复的化合物标识号(pert_id)数量: {unique_pert_ids}\")\n",
    "print(f\"不重复的化合物名称(pert_iname)数量: {unique_pert_iname}\")\n",
    "\n"
   ]
  },
  {
   "cell_type": "markdown",
   "metadata": {},
   "source": [
    "# 统计`GSE92742_Broad_LINCS_sig_info_final.txt`匹配SMILES后的数据信息"
   ]
  },
  {
   "cell_type": "code",
   "execution_count": null,
   "metadata": {},
   "outputs": [],
   "source": [
    "\"GSE92742_Broad_LINCS_sig_info_final.txt\"\n",
    "import pandas as pd\n",
    "\n",
    "#加载sig_info文件\n",
    "final_smiles_path =\"/mnt/d/Research/PHD/DLEPS/results/GSE92742_Broad_LINCS_sig_info_with_smiles.txt\"\n",
    "final_smiles = pd.read_csv(final_smiles_path, sep=\"\\t\", dtype=str)\n",
    "\n",
    "#查看文件基本信息\n",
    "final_unique_sig_ids = final_smiles['sig_id'].nunique()\n",
    "final_unique_pert_ids = final_smiles['pert_id'].nunique()\n",
    "final_unique_pert_iname = final_smiles['pert_iname'].nunique()\n",
    "final_unique_canonical_smiles = final_smiles['canonical_smiles'].nunique()\n",
    "\n",
    "# 输出结果\n",
    "# print(final_smiles)\n",
    "print(f\"不重复的实验记录数据(sig_id)数量: {final_unique_sig_ids}\")\n",
    "print(f\"不重复的化合物标识号(pert_id)数量: {final_unique_pert_ids}\")\n",
    "print(f\"不重复的化合物名称(pert_iname)数量: {final_unique_pert_iname}\")\n",
    "print(f\"不重复的SMILES数量: {final_unique_canonical_smiles}\")"
   ]
  },
  {
   "cell_type": "code",
   "execution_count": null,
   "metadata": {},
   "outputs": [],
   "source": [
    "import pandas as pd\n",
    "\n",
    "# 读取文件\n",
    "file_path = '/mnt/d/Research/PHD/DLEPS/results/GSE92742_Broad_LINCS_sig_info_final.txt'\n",
    "df = pd.read_csv(file_path, sep='\\t')\n",
    "\n",
    "# 计算不重复的 pert_id 的数量\n",
    "unique_pert_ids = df['pert_id'].nunique()\n",
    "\n",
    "# 输出结果\n",
    "print(f\"不重复的 pert_id 数量: {unique_pert_ids}\")\n",
    "\n",
    "# 查找 canonical_smiles 相同但 pert_id 不同的数据\n",
    "duplicated_smiles = df[df.duplicated(subset=['canonical_smiles'], keep=False)]\n",
    "\n",
    "# 按照 canonical_smiles 分组，检查是否有 pert_id 不同的情况\n",
    "result = []\n",
    "for smile, group in duplicated_smiles.groupby('canonical_smiles'):\n",
    "    if group['pert_id'].nunique() > 1:\n",
    "        result.append(group)\n",
    "\n",
    "# 将结果合并并保存为 CSV 文件\n",
    "if result:\n",
    "    result_df = pd.concat(result)\n",
    "    result_df.to_csv('/mnt/d/Research/PHD/DLEPS/results/duplicated_smiles_diff_pertid.csv', index=False)\n",
    "    print(\"数据已保存到文件: duplicated_smiles_diff_pertid.csv\")\n",
    "else:\n",
    "    print(\"没有找到具有相同 canonical_smiles 但不同 pert_id 的数据。\")\n"
   ]
  }
 ],
 "metadata": {
  "kernelspec": {
   "display_name": "DLEPS",
   "language": "python",
   "name": "python3"
  },
  "language_info": {
   "codemirror_mode": {
    "name": "ipython",
    "version": 3
   },
   "file_extension": ".py",
   "mimetype": "text/x-python",
   "name": "python",
   "nbconvert_exporter": "python",
   "pygments_lexer": "ipython3",
   "version": "3.7.12"
  }
 },
 "nbformat": 4,
 "nbformat_minor": 2
}
